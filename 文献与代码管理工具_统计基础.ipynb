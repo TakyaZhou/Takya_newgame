{
 "cells": [
  {
   "cell_type": "markdown",
   "metadata": {},
   "source": [
    "<font size=\"5\">**学习方法：好好上网，文献与代码管理工具**</font><br />\n",
    " 1. 好好上网\n",
    " 2. Mendeley\n",
    " 3. github\n",
    "\n",
    "\n",
    "<font size=\"5\">**统计基础**</font><br />\n",
    " 1. 均值\n",
    " 2. 方差\n",
    " 3. 大数定理\n",
    " 4. 中心极限定理\n",
    " 5. 假设检验\n",
    " 6. p-value定义"
   ]
  },
  {
   "cell_type": "code",
   "execution_count": null,
   "metadata": {},
   "outputs": [],
   "source": []
  },
  {
   "cell_type": "markdown",
   "metadata": {},
   "source": [
    "<font size=\"5\">**1.好好上网，好好学习，好好提问**</font><br />"
   ]
  },
  {
   "cell_type": "markdown",
   "metadata": {},
   "source": [
    "查文献\n",
    "\n",
    "问问题：\n",
    "* 用什么工具上网？\n",
    "* 用什么工具搜索？为什么学会上网很重要，尤其在学习深度学习的过程中\n",
    "* stackoverflow\n",
    "* 知乎\n",
    "* csdn，比如说“支持向量机的三重境界”"
   ]
  },
  {
   "cell_type": "code",
   "execution_count": null,
   "metadata": {},
   "outputs": [],
   "source": []
  },
  {
   "cell_type": "code",
   "execution_count": null,
   "metadata": {},
   "outputs": [],
   "source": []
  },
  {
   "cell_type": "markdown",
   "metadata": {},
   "source": [
    "<font size=\"5\">**2.Mendeley**</font><br />"
   ]
  },
  {
   "cell_type": "markdown",
   "metadata": {},
   "source": [
    "学习资源几类**(每个层次都需要动手做实验)**\n",
    "\n",
    "* 视频\n",
    "   * 万门，网易云课堂，coursera,Udacity\n",
    "* 教科书\n",
    "   * 周志华《机器学习》\n",
    "   * lan Goodfellow《深度学习》\n",
    "   * W.Mckinney《Python for data analysis》\n",
    "* paper论文或小章节"
   ]
  },
  {
   "cell_type": "code",
   "execution_count": null,
   "metadata": {},
   "outputs": [],
   "source": []
  },
  {
   "cell_type": "markdown",
   "metadata": {},
   "source": [
    "<font size=\"5\">**3.GitHub**</font><br />"
   ]
  },
  {
   "cell_type": "markdown",
   "metadata": {},
   "source": [
    "GitHub是程序员必备工具，作为版本控制(version control)和协同合作的利器。\n",
    "\n",
    " 1. 安装GitHub for windows,注册账户\n",
    " 2. 基本命令\n",
    "    * **git init** 建一个新的repository\n",
    "    * **git clone** 克隆一个repository\n",
    "    * **git add** 加入新的内容到缓存区\n",
    "    * **git commit** 实际提交改动\n",
    "    * **git push** 推送改动到远端\n",
    "    * **git checkout -b** 做一个分支branch\n",
    "    * **git pull** 获取并合并远端的版本（fetch+merge）\n",
    "    * **git merge** 合并其他版本，遇到冲突怎么办？\n",
    "    * **git log** 查看记录"
   ]
  },
  {
   "cell_type": "code",
   "execution_count": null,
   "metadata": {},
   "outputs": [],
   "source": []
  }
 ],
 "metadata": {
  "kernelspec": {
   "display_name": "Python 3",
   "language": "python",
   "name": "python3"
  },
  "language_info": {
   "codemirror_mode": {
    "name": "ipython",
    "version": 3
   },
   "file_extension": ".py",
   "mimetype": "text/x-python",
   "name": "python",
   "nbconvert_exporter": "python",
   "pygments_lexer": "ipython3",
   "version": "3.7.0"
  }
 },
 "nbformat": 4,
 "nbformat_minor": 2
}
